{
 "cells": [
  {
   "cell_type": "code",
   "execution_count": 5,
   "id": "a64236f5",
   "metadata": {},
   "outputs": [
    {
     "name": "stdout",
     "output_type": "stream",
     "text": [
      "happy birthday jonathan\n"
     ]
    }
   ],
   "source": [
    "def congrat(name):\n",
    "    print('happy birthday '+ name)\n",
    "    \n",
    "congrat('jonathan')\n"
   ]
  },
  {
   "cell_type": "code",
   "execution_count": 9,
   "id": "564b2e2b",
   "metadata": {},
   "outputs": [
    {
     "name": "stdout",
     "output_type": "stream",
     "text": [
      "33\n",
      "15\n",
      "64\n"
     ]
    }
   ],
   "source": [
    "def math(x, y):\n",
    "    print(x*x+y)\n",
    "    \n",
    "math(5, 8)\n",
    "math(3, 6)\n",
    "math(8, 0)\n"
   ]
  },
  {
   "cell_type": "code",
   "execution_count": 11,
   "id": "de180599",
   "metadata": {},
   "outputs": [
    {
     "name": "stdout",
     "output_type": "stream",
     "text": [
      "1\n"
     ]
    }
   ],
   "source": [
    "\n",
    "\n",
    "    "
   ]
  },
  {
   "cell_type": "code",
   "execution_count": null,
   "id": "fd1f2517",
   "metadata": {},
   "outputs": [],
   "source": []
  }
 ],
 "metadata": {
  "kernelspec": {
   "display_name": "Python 3 (ipykernel)",
   "language": "python",
   "name": "python3"
  },
  "language_info": {
   "codemirror_mode": {
    "name": "ipython",
    "version": 3
   },
   "file_extension": ".py",
   "mimetype": "text/x-python",
   "name": "python",
   "nbconvert_exporter": "python",
   "pygments_lexer": "ipython3",
   "version": "3.9.12"
  }
 },
 "nbformat": 4,
 "nbformat_minor": 5
}
